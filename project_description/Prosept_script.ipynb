{
 "cells": [
  {
   "cell_type": "code",
   "execution_count": 1,
   "id": "a728f38c-11e9-4ca4-80df-485db4dafbea",
   "metadata": {},
   "outputs": [],
   "source": [
    "import pandas as pd\n",
    "import numpy as np\n",
    "\n",
    "import sklearn\n",
    "import scipy\n",
    "from sklearn.metrics.pairwise import cosine_similarity\n",
    "from sklearn.feature_extraction.text import TfidfVectorizer\n",
    "from scipy.sparse import csr_matrix\n",
    "\n",
    "import re"
   ]
  },
  {
   "cell_type": "code",
   "execution_count": 2,
   "id": "c6d882b6-6b3e-477d-83c2-019e5cbaaf9a",
   "metadata": {},
   "outputs": [],
   "source": [
    "pd.options.mode.chained_assignment = None"
   ]
  },
  {
   "cell_type": "code",
   "execution_count": 3,
   "id": "8d15a429-6151-4cd3-a744-a59077b6ec0e",
   "metadata": {},
   "outputs": [],
   "source": [
    "path_to_dir = '../data/'"
   ]
  },
  {
   "cell_type": "code",
   "execution_count": 4,
   "id": "d530f8af-4e20-4ccb-98cc-e945b10d10c8",
   "metadata": {},
   "outputs": [],
   "source": [
    "df_dealerprice = pd.read_csv(path_to_dir + 'marketing_dealerprice.csv', sep=';')\n",
    "df_dealerprice = df_dealerprice[['product_key', 'product_name']]\n",
    "df_dealerprice.drop_duplicates(inplace=True)"
   ]
  },
  {
   "cell_type": "code",
   "execution_count": 5,
   "id": "2aeedd2a-a61b-4995-bf2f-3f67c49d4d9e",
   "metadata": {},
   "outputs": [],
   "source": [
    "df_product = pd.read_csv(path_to_dir + 'marketing_product.csv', sep=';')\n",
    "df_product = df_product[['id', 'name']]\n",
    "df_product.dropna(inplace=True)\n",
    "df_product.drop_duplicates(subset='name', inplace=True)\n",
    "\n",
    "df_product['id_unique'] = pd.factorize(df_product['name'])[0]\n",
    "df_product.set_index('id_unique', inplace=True)"
   ]
  },
  {
   "cell_type": "code",
   "execution_count": 6,
   "id": "83d2fd94-5d1e-42fd-b8da-ce7e274834ac",
   "metadata": {},
   "outputs": [],
   "source": [
    "df_productdealerkey = pd.read_csv(path_to_dir + 'marketing_productdealerkey.csv', sep=';')"
   ]
  },
  {
   "cell_type": "code",
   "execution_count": 7,
   "id": "87e0576c-ad8c-423e-8766-9a045877d4e4",
   "metadata": {},
   "outputs": [],
   "source": [
    "def preprocess(df_1, df_2):\n",
    "\n",
    "    def split_compound_text(text):\n",
    "        pattern = re.compile(r'(?<=[а-яА-Я])(?=[A-Za-z])|(?<=[A-Za-z])(?=[а-яА-Я])')\n",
    "        splitted_text = pattern.sub(\" \", str(text))\n",
    "        return splitted_text\n",
    "\n",
    "    df_1.product_name = df_1.product_name.apply(split_compound_text)\n",
    "    df_2.name = df_2.name.apply(split_compound_text)\n",
    "\n",
    "    def convert_milliliters(text):\n",
    "        return re.sub(r'(\\d+)\\s*мл', lambda x: str(int(x.group(1)) / 1000) + ' ' + 'л', text)\n",
    "\n",
    "    df_1.product_name = df_1.product_name.apply(lambda x: convert_milliliters(x))\n",
    "    df_2.name = df_2.name.apply(lambda x: convert_milliliters(x))\n",
    "\n",
    "    def clear_text(text):\n",
    "        cleaned_text = re.sub(r'[!#$%&\\'()*+,./:;<=>?@[\\]^_`{|}~—\\\"\\\\-]+', ' ', text)\n",
    "        return cleaned_text\n",
    "\n",
    "    df_1.product_name = df_1.product_name.apply(clear_text)\n",
    "    df_2.name = df_2.name.apply(clear_text)\n",
    "\n",
    "    df_1.product_name = df_1.product_name.apply(lambda x: x.lower())\n",
    "    df_2.name = df_2.name.apply(lambda x: x.lower())\n",
    "\n",
    "    df_1.product_name = df_1.product_name.apply(\n",
    "        lambda x: re.sub(r'(средство|мытья|для|чистящее|удаления|очистки)', r'\\1 ', str(x)))\n",
    "    df_2.name = df_2.name.apply(\n",
    "        lambda x: re.sub(r'(средство|мытья|для|чистящее|удаления|очистки)', r'\\1 ', str(x)))\n",
    "\n",
    "    df_1.product_name = df_1.product_name.str.replace(r'\\b(?:и|для|д|с|ф|п|ая|007|i)\\b', '',\n",
    "                                                                          regex=True)\n",
    "    df_2.name = df_2.name.str.replace(r'\\b(?:и|для|д|с|ф|п|ая|007|i)\\b', '', regex=True)\n",
    "\n",
    "    return df_1, df_2\n"
   ]
  },
  {
   "cell_type": "code",
   "execution_count": 8,
   "id": "bacf6161-1df1-480f-9279-35dae2bc3c0c",
   "metadata": {},
   "outputs": [],
   "source": [
    "df_dealerprice, df_product = preprocess(df_dealerprice, df_product)"
   ]
  },
  {
   "cell_type": "code",
   "execution_count": 9,
   "id": "17c4ab41-36cf-48a8-a193-ca4c3f5be69d",
   "metadata": {},
   "outputs": [],
   "source": [
    "corpus = pd.concat([df_product.name, df_dealerprice.product_name]).drop_duplicates().values"
   ]
  },
  {
   "cell_type": "code",
   "execution_count": 10,
   "id": "47cdc9dd-b08e-4692-b045-241560996f56",
   "metadata": {},
   "outputs": [],
   "source": [
    "vectorizer = TfidfVectorizer()\n",
    "vectorizer_fited = vectorizer.fit(corpus)"
   ]
  },
  {
   "cell_type": "code",
   "execution_count": 11,
   "id": "af810a8f-2dc0-495c-9d0d-547b0ecac758",
   "metadata": {},
   "outputs": [],
   "source": [
    "def prediction(feat, targ, tf_idf, n):\n",
    "    vectors_targ = tf_idf.transform(targ).tocsc()\n",
    "    vectors_feat = tf_idf.transform(feat).tocsr()\n",
    "\n",
    "    pred = np.zeros((len(feat), n), dtype=int)\n",
    "    pred_sim = np.zeros((len(feat), n), dtype=float)\n",
    "\n",
    "    for i in range(len(feat)):\n",
    "        cos_sim = cosine_similarity(vectors_feat[i], vectors_targ)\n",
    "        top_n_indexes = np.argsort(cos_sim)[0, -n:][::-1]\n",
    "        top_n_values = cos_sim[0, top_n_indexes]\n",
    "\n",
    "        pred[i] = top_n_indexes\n",
    "        pred_sim[i] = list(np.around(np.array(top_n_values),6))\n",
    "\n",
    "    return pred, pred_sim\n",
    "\n",
    "pred, pred_sim = prediction(df_dealerprice.product_name, df_product.name, vectorizer_fited, 5)"
   ]
  },
  {
   "cell_type": "code",
   "execution_count": 12,
   "id": "c8bba765-7e58-4910-aa9b-6fd51148ef80",
   "metadata": {},
   "outputs": [],
   "source": [
    "result = []\n",
    "\n",
    "for row in pred:\n",
    "    new_row = []\n",
    "    for item in row:\n",
    "        try:\n",
    "            new_row.append(df_product.loc[item, 'id'].values[0])\n",
    "        except:\n",
    "            new_row.append(df_product.loc[item, 'id'])\n",
    "    result.append(new_row)"
   ]
  },
  {
   "cell_type": "code",
   "execution_count": 13,
   "id": "ece74735-6ce8-4428-8f2e-fd9d18c351f1",
   "metadata": {
    "scrolled": true
   },
   "outputs": [],
   "source": [
    "df_result = df_dealerprice['product_key']\n",
    "df_result = df_result.to_frame()\n",
    "df_result['product_id'] = result\n",
    "df_result['pred_sim'] = pred_sim.tolist()"
   ]
  },
  {
   "cell_type": "code",
   "execution_count": 14,
   "id": "8c87c7d0-668f-4a9d-8563-69f17cb53cc7",
   "metadata": {},
   "outputs": [],
   "source": [
    "df_result.to_csv(r'my_data.csv', index= False)\n",
    "\n",
    "df_result.to_json(r'my_data', orient='index')"
   ]
  },
  {
   "cell_type": "code",
   "execution_count": 15,
   "id": "f243b7fa-6b38-4a82-a197-1c9f7fc83959",
   "metadata": {},
   "outputs": [],
   "source": [
    "def metric(actual, pred):\n",
    "    count = 0\n",
    "    for i in range(len(actual)):\n",
    "        if actual[i] in pred[i]:\n",
    "            count += 1\n",
    "    \n",
    "    return round(count /len(actual), 4)"
   ]
  },
  {
   "cell_type": "code",
   "execution_count": 16,
   "id": "cd56649d-dc66-4c0c-bea7-5a564705dfcf",
   "metadata": {},
   "outputs": [],
   "source": [
    "df = df_result.merge(df_productdealerkey[['key', 'product_id']], left_on='product_key', right_on='key')"
   ]
  },
  {
   "cell_type": "code",
   "execution_count": 17,
   "id": "ea16eb38-da14-45b7-9fca-dca47f04b352",
   "metadata": {},
   "outputs": [
    {
     "name": "stdout",
     "output_type": "stream",
     "text": [
      "0.8687\n"
     ]
    }
   ],
   "source": [
    "print(metric(df.product_id_y, df.product_id_x))"
   ]
  },
  {
   "cell_type": "code",
   "execution_count": null,
   "id": "75251689-0fa0-4710-a72b-a09f543692d6",
   "metadata": {},
   "outputs": [],
   "source": []
  }
 ],
 "metadata": {
  "kernelspec": {
   "display_name": "Python 3 (ipykernel)",
   "language": "python",
   "name": "python3"
  },
  "language_info": {
   "codemirror_mode": {
    "name": "ipython",
    "version": 3
   },
   "file_extension": ".py",
   "mimetype": "text/x-python",
   "name": "python",
   "nbconvert_exporter": "python",
   "pygments_lexer": "ipython3",
   "version": "3.9.5"
  }
 },
 "nbformat": 4,
 "nbformat_minor": 5
}
