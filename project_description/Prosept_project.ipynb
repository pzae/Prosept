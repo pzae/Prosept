{
 "cells": [
  {
   "cell_type": "markdown",
   "id": "bd27b766-2866-4091-a2f7-3ab323b11d07",
   "metadata": {},
   "source": [
    "# Prosept. Создание сервиса для полуавтоматической разметки товаров\n"
   ]
  },
  {
   "cell_type": "code",
   "execution_count": 1,
   "id": "1631815b-3504-45e8-8cbf-b078adc4f186",
   "metadata": {},
   "outputs": [],
   "source": [
    "import pandas as pd\n",
    "import numpy as np\n",
    "\n",
    "import sklearn\n",
    "import scipy\n",
    "from sklearn.metrics.pairwise import cosine_similarity\n",
    "from sklearn.feature_extraction.text import TfidfVectorizer\n",
    "from scipy.sparse import csr_matrix\n",
    "\n",
    "import re"
   ]
  },
  {
   "cell_type": "code",
   "execution_count": 2,
   "id": "99a857b9-983b-4d22-a8cd-cdbd2bb744c9",
   "metadata": {},
   "outputs": [
    {
     "name": "stdout",
     "output_type": "stream",
     "text": [
      "2.2.1\n"
     ]
    }
   ],
   "source": [
    "print(re.__version__)"
   ]
  },
  {
   "cell_type": "code",
   "execution_count": 3,
   "id": "e81f1097-9ea3-434f-ad24-57485e128085",
   "metadata": {},
   "outputs": [],
   "source": [
    "pd.set_option('display.max_colwidth', None)\n",
    "pd.options.mode.chained_assignment = None"
   ]
  },
  {
   "cell_type": "markdown",
   "id": "ed5565fd-cac0-4189-b4cf-5e2d7ac83229",
   "metadata": {},
   "source": [
    "## Введение"
   ]
  },
  {
   "cell_type": "markdown",
   "id": "007d2785-c260-487c-bb27-ccff868bef77",
   "metadata": {},
   "source": [
    "Цели данного этапа: разработка прототипа модели и скорейшая проработка важных вопросов, таких как общий вид интеграции в backend. После того, как данное решение пройдёт полный цикл от разбработки до проверки, команда DS приступит к решению дополнительных вопросов, вынесеных в список к проработке в дальнейшем и улучшению метрики. <br>\n",
    "За основную гипотезу выбрано предположение о том, что названий товаров достаточно для получения мэтча с приемлемой точностью. Для реализации этой гипотезы выбран метод `cosine_similarity`, применённый к векторам названий, полученным с помощью `TfidfVectorizer()`. Сопоставляются вектора столбцов `df_dealerprice.product_name` и `df_product.name`. Остальные фичи не используются.  Необходимость их добавления в проект будет рассмотрена по итогу реализации данного решения и его оценки.<br>\n",
    "Так же сразу стоит отметить, что по договорённости с бэкендом наш модуль вызвается один раз при запуске программы, просчитывает все мэтчи и выдаёт таблицу с мэтчами, с которой в дальнейшем и работает бэкенд. Функция просчёта мэтчей (самая ресурсоёмкая операция) в тетрадке выполняется за **1.64** секунды, что говорит о том, что и в сборке выполнение данного кода не должно приводить к задержкам и неудобствам для оператора."
   ]
  },
  {
   "cell_type": "markdown",
   "id": "f13ff5a0-42c0-4b2a-b5b1-55c402428bf3",
   "metadata": {},
   "source": [
    "## Подготовка данных"
   ]
  },
  {
   "cell_type": "markdown",
   "id": "26d6f8b6-bef0-4f35-b120-96973703855f",
   "metadata": {},
   "source": [
    "Загрузим данные их датасетов `marketing_dealerprice.csv`, `marketing_product.csv` и `marketing_productdealerkey.csv`. `marketing_dealer` не нужен для DS модуля, так как информация из него подтягивается бэкендом."
   ]
  },
  {
   "cell_type": "markdown",
   "id": "e4768b4e-7aa4-42b1-82e3-41ba1b540e3e",
   "metadata": {},
   "source": [
    "Датасеты `marketing_dealerprice.csv` и `marketing_product.csv` сразу очистим от дубликатов, чтобы не повторять расчёт для одинаковых позиций. Стоит отметить, что в датасетах обнаружены одинаковые названия с разными `id`, а также пропуски. Данные вопросы вынесены в список к проработке в дальнейшем. <br>\n",
    "Так же для `df_product` создан список уникальных и упорядоченных `id_unique`. Данная операция осталась от предыдущего метода совмещения исходных данных, который за 19 часов до дэдлайна оказался нежизнеспособным. В дальнейшем будет рассмотрена возможность упразднения данной операции."
   ]
  },
  {
   "cell_type": "code",
   "execution_count": 4,
   "id": "2cf81dd3-1108-471b-8e07-7a9e7ae1b0d9",
   "metadata": {},
   "outputs": [],
   "source": [
    "path_to_dir = '../data/'"
   ]
  },
  {
   "cell_type": "code",
   "execution_count": 5,
   "id": "d530f8af-4e20-4ccb-98cc-e945b10d10c8",
   "metadata": {},
   "outputs": [
    {
     "data": {
      "text/plain": [
       "product_key     1965\n",
       "product_name    1953\n",
       "dtype: int64"
      ]
     },
     "execution_count": 5,
     "metadata": {},
     "output_type": "execute_result"
    }
   ],
   "source": [
    "df_dealerprice = pd.read_csv(path_to_dir + 'marketing_dealerprice.csv', sep=';')\n",
    "df_dealerprice[['product_key', 'product_name']].nunique()"
   ]
  },
  {
   "cell_type": "code",
   "execution_count": 6,
   "id": "394ea4e6-af29-4b33-89fc-46c75220b51d",
   "metadata": {},
   "outputs": [
    {
     "data": {
      "text/html": [
       "<div>\n",
       "<style scoped>\n",
       "    .dataframe tbody tr th:only-of-type {\n",
       "        vertical-align: middle;\n",
       "    }\n",
       "\n",
       "    .dataframe tbody tr th {\n",
       "        vertical-align: top;\n",
       "    }\n",
       "\n",
       "    .dataframe thead th {\n",
       "        text-align: right;\n",
       "    }\n",
       "</style>\n",
       "<table border=\"1\" class=\"dataframe\">\n",
       "  <thead>\n",
       "    <tr style=\"text-align: right;\">\n",
       "      <th></th>\n",
       "      <th>product_key</th>\n",
       "      <th>product_name</th>\n",
       "    </tr>\n",
       "  </thead>\n",
       "  <tbody>\n",
       "    <tr>\n",
       "      <th>0</th>\n",
       "      <td>546227</td>\n",
       "      <td>Средство универсальное Prosept Universal Spray, 500мл</td>\n",
       "    </tr>\n",
       "    <tr>\n",
       "      <th>1</th>\n",
       "      <td>546408</td>\n",
       "      <td>Концентрат Prosept Multipower для мытья полов, цитрус 1л</td>\n",
       "    </tr>\n",
       "  </tbody>\n",
       "</table>\n",
       "</div>"
      ],
      "text/plain": [
       "  product_key                                              product_name\n",
       "0      546227     Средство универсальное Prosept Universal Spray, 500мл\n",
       "1      546408  Концентрат Prosept Multipower для мытья полов, цитрус 1л"
      ]
     },
     "execution_count": 6,
     "metadata": {},
     "output_type": "execute_result"
    }
   ],
   "source": [
    "df_dealerprice = df_dealerprice[['product_key', 'product_name']]\n",
    "df_dealerprice.drop_duplicates(inplace=True)\n",
    "df_dealerprice.head(2)"
   ]
  },
  {
   "cell_type": "code",
   "execution_count": 7,
   "id": "2aeedd2a-a61b-4995-bf2f-3f67c49d4d9e",
   "metadata": {},
   "outputs": [
    {
     "data": {
      "text/plain": [
       "id      496\n",
       "name    487\n",
       "dtype: int64"
      ]
     },
     "execution_count": 7,
     "metadata": {},
     "output_type": "execute_result"
    }
   ],
   "source": [
    "df_product = pd.read_csv(path_to_dir + 'marketing_product.csv', sep=';')\n",
    "df_product[['id', 'name']].nunique()"
   ]
  },
  {
   "cell_type": "code",
   "execution_count": 8,
   "id": "3f34f87a-0624-489d-b2ba-2fea22c2cc9d",
   "metadata": {},
   "outputs": [
    {
     "data": {
      "text/html": [
       "<div>\n",
       "<style scoped>\n",
       "    .dataframe tbody tr th:only-of-type {\n",
       "        vertical-align: middle;\n",
       "    }\n",
       "\n",
       "    .dataframe tbody tr th {\n",
       "        vertical-align: top;\n",
       "    }\n",
       "\n",
       "    .dataframe thead th {\n",
       "        text-align: right;\n",
       "    }\n",
       "</style>\n",
       "<table border=\"1\" class=\"dataframe\">\n",
       "  <thead>\n",
       "    <tr style=\"text-align: right;\">\n",
       "      <th></th>\n",
       "      <th>id</th>\n",
       "      <th>name</th>\n",
       "    </tr>\n",
       "    <tr>\n",
       "      <th>id_unique</th>\n",
       "      <th></th>\n",
       "      <th></th>\n",
       "    </tr>\n",
       "  </thead>\n",
       "  <tbody>\n",
       "    <tr>\n",
       "      <th>0</th>\n",
       "      <td>245</td>\n",
       "      <td>Антисептик невымываемыйPROSEPT ULTRAконцентрат 1:10  / 1 л</td>\n",
       "    </tr>\n",
       "    <tr>\n",
       "      <th>1</th>\n",
       "      <td>3</td>\n",
       "      <td>Антигололед - 32 PROSEPTготовый состав / 12 кг</td>\n",
       "    </tr>\n",
       "  </tbody>\n",
       "</table>\n",
       "</div>"
      ],
      "text/plain": [
       "            id                                                        name\n",
       "id_unique                                                                 \n",
       "0          245  Антисептик невымываемыйPROSEPT ULTRAконцентрат 1:10  / 1 л\n",
       "1            3              Антигололед - 32 PROSEPTготовый состав / 12 кг"
      ]
     },
     "execution_count": 8,
     "metadata": {},
     "output_type": "execute_result"
    }
   ],
   "source": [
    "df_product = df_product[['id', 'name']]\n",
    "df_product.dropna(inplace=True)\n",
    "df_product.drop_duplicates(subset='name', inplace=True)\n",
    "\n",
    "df_product['id_unique'] = pd.factorize(df_product['name'])[0]\n",
    "df_product.set_index('id_unique', inplace=True)\n",
    "\n",
    "df_product.head(2)"
   ]
  },
  {
   "cell_type": "code",
   "execution_count": 9,
   "id": "83d2fd94-5d1e-42fd-b8da-ce7e274834ac",
   "metadata": {},
   "outputs": [
    {
     "data": {
      "text/html": [
       "<div>\n",
       "<style scoped>\n",
       "    .dataframe tbody tr th:only-of-type {\n",
       "        vertical-align: middle;\n",
       "    }\n",
       "\n",
       "    .dataframe tbody tr th {\n",
       "        vertical-align: top;\n",
       "    }\n",
       "\n",
       "    .dataframe thead th {\n",
       "        text-align: right;\n",
       "    }\n",
       "</style>\n",
       "<table border=\"1\" class=\"dataframe\">\n",
       "  <thead>\n",
       "    <tr style=\"text-align: right;\">\n",
       "      <th></th>\n",
       "      <th>id</th>\n",
       "      <th>key</th>\n",
       "      <th>dealer_id</th>\n",
       "      <th>product_id</th>\n",
       "    </tr>\n",
       "  </thead>\n",
       "  <tbody>\n",
       "    <tr>\n",
       "      <th>0</th>\n",
       "      <td>1</td>\n",
       "      <td>546227</td>\n",
       "      <td>2</td>\n",
       "      <td>12</td>\n",
       "    </tr>\n",
       "    <tr>\n",
       "      <th>1</th>\n",
       "      <td>2</td>\n",
       "      <td>651265</td>\n",
       "      <td>2</td>\n",
       "      <td>106</td>\n",
       "    </tr>\n",
       "    <tr>\n",
       "      <th>2</th>\n",
       "      <td>3</td>\n",
       "      <td>546257</td>\n",
       "      <td>2</td>\n",
       "      <td>200</td>\n",
       "    </tr>\n",
       "    <tr>\n",
       "      <th>3</th>\n",
       "      <td>4</td>\n",
       "      <td>546408</td>\n",
       "      <td>2</td>\n",
       "      <td>38</td>\n",
       "    </tr>\n",
       "    <tr>\n",
       "      <th>4</th>\n",
       "      <td>5</td>\n",
       "      <td>651258</td>\n",
       "      <td>2</td>\n",
       "      <td>403</td>\n",
       "    </tr>\n",
       "  </tbody>\n",
       "</table>\n",
       "</div>"
      ],
      "text/plain": [
       "   id     key  dealer_id  product_id\n",
       "0   1  546227          2          12\n",
       "1   2  651265          2         106\n",
       "2   3  546257          2         200\n",
       "3   4  546408          2          38\n",
       "4   5  651258          2         403"
      ]
     },
     "execution_count": 9,
     "metadata": {},
     "output_type": "execute_result"
    }
   ],
   "source": [
    "df_productdealerkey = pd.read_csv(path_to_dir + 'marketing_productdealerkey.csv', sep=';')\n",
    "df_productdealerkey.head()"
   ]
  },
  {
   "cell_type": "markdown",
   "id": "161b12e5-7270-4765-99f0-03ae2f503f87",
   "metadata": {},
   "source": [
    "Данные готовы, можно приступить к предобработке текста."
   ]
  },
  {
   "cell_type": "markdown",
   "id": "26c5e63a-8a60-40a9-9fda-2e31b1783f6b",
   "metadata": {},
   "source": [
    "## Предобработка текста"
   ]
  },
  {
   "cell_type": "markdown",
   "id": "978faadc-0f46-4f1b-b063-2c01584a564f",
   "metadata": {},
   "source": [
    "**Данный раздел находится в разработке. Количество функций будет сокращено, код оптимизирован.**"
   ]
  },
  {
   "cell_type": "markdown",
   "id": "2439121e-e911-4c30-ab2b-c37ef83a962e",
   "metadata": {},
   "source": [
    "Были выявлены следующие недостатки в данных:\n",
    "\n",
    "1. Разный регистр букв\n",
    "2. Расхождение единиц объёма/веса\n",
    "3. Слитное написание слов, отсутствие пробелов. Некоторые записи с полным отсутствием пробелов определяются как одно слово, что даёт `cos_sim = 0` до всех предложеных позиций.\n",
    "\n",
    "Основная идея - привести все записи и слова к одному формату, чтобы увеличить количество совпадений по словам и снизить размерность векторного пространства для более точного определения `cos_sim`. На данный момент удалось снизить размерность вектора с 1222 слов до 1099."
   ]
  },
  {
   "cell_type": "code",
   "execution_count": 10,
   "id": "5b5b0bb8-5675-433c-a287-d0cc0bed1fdb",
   "metadata": {},
   "outputs": [
    {
     "data": {
      "text/plain": [
       "array(['Антисептик невымываемыйPROSEPT ULTRAконцентрат 1:10  / 1 л',\n",
       "       'Антигололед - 32 PROSEPTготовый состав / 12 кг',\n",
       "       'Герметик акриловый цвет сосна, ф/п 600мл', ...,\n",
       "       'Средство для удаления клейкой ленты, клея, наклеек 0,4л PROSEPT Duty Universal готовый состав',\n",
       "       'Отбеливатель для древесины PROSEPT ECO 50 готовый состав 1 кг',\n",
       "       'Герметик акриловый межшовный для деревянных конструкций, цвет \"Орех\" готовый состав 0,6 кг'],\n",
       "      dtype=object)"
      ]
     },
     "execution_count": 10,
     "metadata": {},
     "output_type": "execute_result"
    }
   ],
   "source": [
    "corpus = pd.concat([df_product.name, df_dealerprice.product_name]).drop_duplicates().values\n",
    "corpus"
   ]
  },
  {
   "cell_type": "code",
   "execution_count": 11,
   "id": "3414cea2-a529-4acc-8f12-89ad8c459003",
   "metadata": {},
   "outputs": [],
   "source": [
    "# Разделим слова в тексте\n",
    "\n",
    "def split_compound_text(text):\n",
    "    pattern = re.compile(r'(?<=[а-яА-Я])(?=[A-Za-z])|(?<=[A-Za-z])(?=[а-яА-Я])')\n",
    "    splitted_text = pattern.sub(\" \", str(text))\n",
    "    return splitted_text"
   ]
  },
  {
   "cell_type": "code",
   "execution_count": 12,
   "id": "4bd5be4b-0dfe-4103-b016-bde0ca91a2ce",
   "metadata": {},
   "outputs": [],
   "source": [
    "df_dealerprice.product_name = df_dealerprice.product_name.apply(split_compound_text)\n",
    "df_product.name = df_product.name.apply(split_compound_text)"
   ]
  },
  {
   "cell_type": "code",
   "execution_count": 13,
   "id": "08e1d9c2-6994-4659-a5ef-ab9508f28fea",
   "metadata": {},
   "outputs": [],
   "source": [
    "# Заменим \"мл\" на \"л\" и разделеним на 1000, если в миллилитрах\n",
    "\n",
    "def convert_milliliters(text):\n",
    "    return re.sub(r'(\\d+)\\s*мл', lambda x: str(int(x.group(1)) / 1000) +' '+'л', text)"
   ]
  },
  {
   "cell_type": "code",
   "execution_count": 14,
   "id": "7a66048b-1fcd-435f-9550-a4ea441e82fa",
   "metadata": {},
   "outputs": [],
   "source": [
    "df_dealerprice.product_name = df_dealerprice.product_name.apply(lambda x: convert_milliliters(x))\n",
    "df_product.name = df_product.name.apply(lambda x: convert_milliliters(x))"
   ]
  },
  {
   "cell_type": "code",
   "execution_count": 15,
   "id": "e8b138cd-4219-4dc9-adc1-bf60e8d2b71f",
   "metadata": {},
   "outputs": [],
   "source": [
    "# Удалим все лишние знаки\n",
    "\n",
    "def clear_text(text):\n",
    "    cleaned_text = re.sub(r'[!#$%&\\'()*+,./:;<=>?@[\\]^_`{|}~—\\\"\\\\-]+', ' ', text)\n",
    "    return cleaned_text"
   ]
  },
  {
   "cell_type": "code",
   "execution_count": 16,
   "id": "c0bb7e49-8be1-437f-8887-12183e7633f6",
   "metadata": {},
   "outputs": [],
   "source": [
    "df_dealerprice.product_name = df_dealerprice.product_name.apply(clear_text)\n",
    "df_product.name = df_product.name.apply(clear_text)"
   ]
  },
  {
   "cell_type": "code",
   "execution_count": 17,
   "id": "4395ceb9-2e22-48cb-9462-ffdfed525685",
   "metadata": {},
   "outputs": [],
   "source": [
    "# Приведём всё к нижнему регистру\n",
    "\n",
    "df_dealerprice.product_name = df_dealerprice.product_name.apply(lambda x: x.lower())\n",
    "df_product.name = df_product.name.apply(lambda x: x.lower())"
   ]
  },
  {
   "cell_type": "code",
   "execution_count": 18,
   "id": "0b41a2aa-ffab-439b-99b4-ac386d584903",
   "metadata": {},
   "outputs": [],
   "source": [
    "# Разделим\n",
    "# Чистящеесредство , Средстводляпосудомоечной, Средстводлямытьяполов, Средстводляудаленияржавчины,\n",
    "# Чистящеесредстводлябаниисауны, Средстводляочисткилюстр, Средстводляудаленияцемента\n",
    "\n",
    "df_dealerprice.product_name = df_dealerprice.product_name.apply(lambda x: re.sub(r'(средство|мытья|для|чистящее|удаления|очистки)', r'\\1 ', str(x)))\n",
    "df_product.name = df_product.name.apply(lambda x: re.sub(r'(средство|мытья|для|чистящее|удаления|очистки)', r'\\1 ', str(x)))"
   ]
  },
  {
   "cell_type": "code",
   "execution_count": 19,
   "id": "b3667251-deae-45c4-8d6e-608e2cda2ec3",
   "metadata": {},
   "outputs": [],
   "source": [
    "# Удалим и, для, д, с, ф, п, ая, 007, i\n",
    "\n",
    "df_dealerprice.product_name = df_dealerprice.product_name.str.replace(r'\\b(?:и|для|д|с|ф|п|ая|007|i)\\b', '', regex=True)\n",
    "df_product.name = df_product.name.str.replace(r'\\b(?:и|для|д|с|ф|п|ая|007|i)\\b', '', regex=True)"
   ]
  },
  {
   "cell_type": "markdown",
   "id": "a743f93a-9f6d-48b4-b08e-de4c4ae34afb",
   "metadata": {},
   "source": [
    "Объединим два корпуса названий продуктов в один."
   ]
  },
  {
   "cell_type": "code",
   "execution_count": 20,
   "id": "17c4ab41-36cf-48a8-a193-ca4c3f5be69d",
   "metadata": {},
   "outputs": [
    {
     "data": {
      "text/plain": [
       "array(['антисептик невымываемый prosept ultra концентрат 1 10    1 л',\n",
       "       'антигололед   32 prosept готовый состав   12 кг',\n",
       "       'герметик акриловый цвет сосна    0 6 л', ...,\n",
       "       'средство    удаления  клейкой ленты  клея  наклеек 0 4л prosept duty universal готовый состав',\n",
       "       'отбеливатель   древесины prosept eco 50 готовый состав 1 кг',\n",
       "       'герметик акриловый межшовный   деревянных конструкций  цвет  орех  готовый состав 0 6 кг'],\n",
       "      dtype=object)"
      ]
     },
     "execution_count": 20,
     "metadata": {},
     "output_type": "execute_result"
    }
   ],
   "source": [
    "corpus = pd.concat([df_product.name, df_dealerprice.product_name]).drop_duplicates().values\n",
    "corpus"
   ]
  },
  {
   "cell_type": "markdown",
   "id": "cb93cd4b-9ad5-4bd9-a77b-3b94f6b609ca",
   "metadata": {},
   "source": [
    "Предобработка проведена. Её успешность оценивалась по размерности получаемого через `TfidfVectorizer()` вектора, о чём было сказано ранее и по метрике, о чём будет сказано в дальнейшем, дабы не раздувать код дополнительными демонстрациями. Приступим к `TF-IDF` и `cos_sim` и созданию функции предсказания."
   ]
  },
  {
   "cell_type": "markdown",
   "id": "7064d22f-49e2-4467-ac48-b699cca99748",
   "metadata": {},
   "source": [
    "## `TF-IDF` и `cos_sim`"
   ]
  },
  {
   "cell_type": "markdown",
   "id": "03e3d000-bf29-406b-8238-a7776dd01102",
   "metadata": {},
   "source": [
    "Для сопоставления названий от дилеров названиям от заказчика выбран метод `cosine_similarity`, применённый к векторам названий, полученным с помощью `TfidfVectorizer()`."
   ]
  },
  {
   "cell_type": "code",
   "execution_count": 21,
   "id": "47cdc9dd-b08e-4692-b045-241560996f56",
   "metadata": {},
   "outputs": [],
   "source": [
    "vectorizer = TfidfVectorizer()\n",
    "vectorizer_fited = vectorizer.fit(corpus)"
   ]
  },
  {
   "cell_type": "markdown",
   "id": "e5da4bbe-91df-4884-b141-d5bfe138d21d",
   "metadata": {},
   "source": [
    "Параллельно посмотрим на размерность вектора."
   ]
  },
  {
   "cell_type": "code",
   "execution_count": 22,
   "id": "b55ac3a1-05d4-4595-891c-058443fe973a",
   "metadata": {},
   "outputs": [
    {
     "data": {
      "text/plain": [
       "1099"
      ]
     },
     "execution_count": 22,
     "metadata": {},
     "output_type": "execute_result"
    }
   ],
   "source": [
    "vector_name = vectorizer.transform(df_product.name)\n",
    "len(vector_name.todense().tolist()[0])"
   ]
  },
  {
   "cell_type": "markdown",
   "id": "d01047f6-c55a-4f54-9283-720a796172df",
   "metadata": {},
   "source": [
    "В функции предсказания выполняется итерирование по `vectors_feat`, рассчитывается `cosine_similarity` для каждой пары `vectors_feat[i], vectors_targ`. Функция возвращает лучшие `n` позиций вместе с соответствующими `cosine_similarity`. Для оптимизации времени расчёта матрицы векторов конвертированы в формат `Compressed Sparse`."
   ]
  },
  {
   "cell_type": "code",
   "execution_count": 23,
   "id": "af810a8f-2dc0-495c-9d0d-547b0ecac758",
   "metadata": {},
   "outputs": [
    {
     "name": "stdout",
     "output_type": "stream",
     "text": [
      "CPU times: total: 1.78 s\n",
      "Wall time: 1.78 s\n"
     ]
    }
   ],
   "source": [
    "%%time\n",
    "\n",
    "def prediction(feat, targ, tf_idf, n):\n",
    "    vectors_targ = tf_idf.transform(targ).tocsc()\n",
    "    vectors_feat = tf_idf.transform(feat).tocsr()\n",
    "\n",
    "    pred = np.zeros((len(feat), n), dtype=int)\n",
    "    pred_sim = np.zeros((len(feat), n), dtype=float)\n",
    "\n",
    "    for i in range(len(feat)):\n",
    "        cos_sim = cosine_similarity(vectors_feat[i], vectors_targ)\n",
    "        top_n_indexes = np.argsort(cos_sim)[0, -n:][::-1]\n",
    "        top_n_values = cos_sim[0, top_n_indexes]\n",
    "\n",
    "        pred[i] = top_n_indexes\n",
    "        pred_sim[i] = list(np.around(np.array(top_n_values),6))\n",
    "\n",
    "    return pred, pred_sim\n",
    "\n",
    "pred, pred_sim = prediction(df_dealerprice.product_name, df_product.name, vectorizer_fited, 5)"
   ]
  },
  {
   "cell_type": "markdown",
   "id": "07660ba6-9810-4565-819d-631936127d55",
   "metadata": {},
   "source": [
    "**1.7** секунды - неплохой результат."
   ]
  },
  {
   "cell_type": "code",
   "execution_count": 24,
   "id": "14fdd25a-ca69-48a8-90fa-f7725c3e757a",
   "metadata": {},
   "outputs": [
    {
     "name": "stdout",
     "output_type": "stream",
     "text": [
      "[[335 479 176 438 427]\n",
      " [ 63 174  89 263 262]\n",
      " [211 213 208 356 353]\n",
      " [458 247 276 144 192]\n",
      " [244 198 210 219 401]]\n"
     ]
    }
   ],
   "source": [
    "print(pred[0:5])"
   ]
  },
  {
   "cell_type": "code",
   "execution_count": 25,
   "id": "36239ed3-11ac-48db-ac05-b2bdd129ac5e",
   "metadata": {},
   "outputs": [
    {
     "name": "stdout",
     "output_type": "stream",
     "text": [
      "[[0.71266  0.71266  0.635631 0.457258 0.457258]\n",
      " [0.760274 0.758144 0.675339 0.617515 0.617515]\n",
      " [0.928725 0.650948 0.650948 0.180814 0.159013]\n",
      " [0.700914 0.700914 0.66071  0.188307 0.165063]\n",
      " [0.910428 0.608733 0.466645 0.466645 0.397241]]\n"
     ]
    }
   ],
   "source": [
    "print(pred_sim[0:5])"
   ]
  },
  {
   "cell_type": "markdown",
   "id": "ae40e182-1ba8-4e4e-9d87-6f7eaaf61958",
   "metadata": {},
   "source": [
    "Функция работает и выдаёт корректный результат. Стоит отметить, что первая версия функции предсказания выполнялась за **~70** секунд и выдавала дублирующиеся значения айди названий от заказчика, то есть в топ-5 могло попасть всего 3 уникальных айди, что ухудшало не только метрику, но и выдачу для оператора в дальнейшем. <br>\n",
    "На данном этапе мы получили список предложенных нашей функцией предсказания позиций заказчика для каждой позиции дилера. Однако данные индексы не соответствуют индексам во входных файлах. Необходимо сопоставить их настоящим `product_id` и `product_key`."
   ]
  },
  {
   "cell_type": "markdown",
   "id": "db214779-234c-4658-ae43-d34edbc2e10d",
   "metadata": {},
   "source": [
    "## Сопоставление нашего расчёта с `product_id` и `product_key`."
   ]
  },
  {
   "cell_type": "markdown",
   "id": "0a4b3bdd-6959-4af3-9825-2696c4701843",
   "metadata": {},
   "source": [
    "Напишем код для сопоставления айди."
   ]
  },
  {
   "cell_type": "code",
   "execution_count": 26,
   "id": "7ec778f1-7475-41dc-ac7b-b10b3cbcbeb5",
   "metadata": {},
   "outputs": [
    {
     "data": {
      "text/html": [
       "<div>\n",
       "<style scoped>\n",
       "    .dataframe tbody tr th:only-of-type {\n",
       "        vertical-align: middle;\n",
       "    }\n",
       "\n",
       "    .dataframe tbody tr th {\n",
       "        vertical-align: top;\n",
       "    }\n",
       "\n",
       "    .dataframe thead th {\n",
       "        text-align: right;\n",
       "    }\n",
       "</style>\n",
       "<table border=\"1\" class=\"dataframe\">\n",
       "  <thead>\n",
       "    <tr style=\"text-align: right;\">\n",
       "      <th></th>\n",
       "      <th>product_key</th>\n",
       "      <th>product_name</th>\n",
       "    </tr>\n",
       "  </thead>\n",
       "  <tbody>\n",
       "    <tr>\n",
       "      <th>0</th>\n",
       "      <td>546227</td>\n",
       "      <td>средство  универсальное prosept universal spray  0 5 л</td>\n",
       "    </tr>\n",
       "    <tr>\n",
       "      <th>1</th>\n",
       "      <td>546408</td>\n",
       "      <td>концентрат prosept multipower   мытья  полов  цитрус 1л</td>\n",
       "    </tr>\n",
       "    <tr>\n",
       "      <th>2</th>\n",
       "      <td>546234</td>\n",
       "      <td>средство    чистки люстр prosept universal anti dust  0 5 л</td>\n",
       "    </tr>\n",
       "  </tbody>\n",
       "</table>\n",
       "</div>"
      ],
      "text/plain": [
       "  product_key                                                 product_name\n",
       "0      546227       средство  универсальное prosept universal spray  0 5 л\n",
       "1      546408      концентрат prosept multipower   мытья  полов  цитрус 1л\n",
       "2      546234  средство    чистки люстр prosept universal anti dust  0 5 л"
      ]
     },
     "execution_count": 26,
     "metadata": {},
     "output_type": "execute_result"
    }
   ],
   "source": [
    "df_dealerprice.head(3)"
   ]
  },
  {
   "cell_type": "code",
   "execution_count": 27,
   "id": "3a8298bb-b7a8-4fb1-a89e-bb91b105a38e",
   "metadata": {},
   "outputs": [
    {
     "data": {
      "text/html": [
       "<div>\n",
       "<style scoped>\n",
       "    .dataframe tbody tr th:only-of-type {\n",
       "        vertical-align: middle;\n",
       "    }\n",
       "\n",
       "    .dataframe tbody tr th {\n",
       "        vertical-align: top;\n",
       "    }\n",
       "\n",
       "    .dataframe thead th {\n",
       "        text-align: right;\n",
       "    }\n",
       "</style>\n",
       "<table border=\"1\" class=\"dataframe\">\n",
       "  <thead>\n",
       "    <tr style=\"text-align: right;\">\n",
       "      <th></th>\n",
       "      <th>id</th>\n",
       "      <th>name</th>\n",
       "    </tr>\n",
       "    <tr>\n",
       "      <th>id_unique</th>\n",
       "      <th></th>\n",
       "      <th></th>\n",
       "    </tr>\n",
       "  </thead>\n",
       "  <tbody>\n",
       "    <tr>\n",
       "      <th>0</th>\n",
       "      <td>245</td>\n",
       "      <td>антисептик невымываемый prosept ultra концентрат 1 10    1 л</td>\n",
       "    </tr>\n",
       "    <tr>\n",
       "      <th>1</th>\n",
       "      <td>3</td>\n",
       "      <td>антигололед   32 prosept готовый состав   12 кг</td>\n",
       "    </tr>\n",
       "    <tr>\n",
       "      <th>2</th>\n",
       "      <td>443</td>\n",
       "      <td>герметик акриловый цвет сосна    0 6 л</td>\n",
       "    </tr>\n",
       "  </tbody>\n",
       "</table>\n",
       "</div>"
      ],
      "text/plain": [
       "            id                                                          name\n",
       "id_unique                                                                   \n",
       "0          245  антисептик невымываемый prosept ultra концентрат 1 10    1 л\n",
       "1            3               антигололед   32 prosept готовый состав   12 кг\n",
       "2          443                        герметик акриловый цвет сосна    0 6 л"
      ]
     },
     "execution_count": 27,
     "metadata": {},
     "output_type": "execute_result"
    }
   ],
   "source": [
    "df_product.head(3)"
   ]
  },
  {
   "cell_type": "code",
   "execution_count": 28,
   "id": "c8bba765-7e58-4910-aa9b-6fd51148ef80",
   "metadata": {},
   "outputs": [
    {
     "name": "stdout",
     "output_type": "stream",
     "text": [
      "CPU times: total: 156 ms\n",
      "Wall time: 152 ms\n"
     ]
    }
   ],
   "source": [
    "%%time\n",
    "\n",
    "result = []\n",
    "\n",
    "for row in pred:\n",
    "    new_row = []\n",
    "    for item in row:\n",
    "        try:\n",
    "            new_row.append(df_product.loc[item, 'id'].values[0])\n",
    "        except:\n",
    "            new_row.append(df_product.loc[item, 'id'])\n",
    "    result.append(new_row)"
   ]
  },
  {
   "cell_type": "markdown",
   "id": "7bbb036c-fb1b-4efe-8dd4-afe7d89ac892",
   "metadata": {},
   "source": [
    "Создадим датафрейм, с истинными `product_id` и `product_key`."
   ]
  },
  {
   "cell_type": "code",
   "execution_count": 29,
   "id": "ece74735-6ce8-4428-8f2e-fd9d18c351f1",
   "metadata": {
    "scrolled": true
   },
   "outputs": [
    {
     "data": {
      "text/html": [
       "<div>\n",
       "<style scoped>\n",
       "    .dataframe tbody tr th:only-of-type {\n",
       "        vertical-align: middle;\n",
       "    }\n",
       "\n",
       "    .dataframe tbody tr th {\n",
       "        vertical-align: top;\n",
       "    }\n",
       "\n",
       "    .dataframe thead th {\n",
       "        text-align: right;\n",
       "    }\n",
       "</style>\n",
       "<table border=\"1\" class=\"dataframe\">\n",
       "  <thead>\n",
       "    <tr style=\"text-align: right;\">\n",
       "      <th></th>\n",
       "      <th>product_key</th>\n",
       "      <th>product_id</th>\n",
       "      <th>pred_sim</th>\n",
       "    </tr>\n",
       "  </thead>\n",
       "  <tbody>\n",
       "    <tr>\n",
       "      <th>0</th>\n",
       "      <td>546227</td>\n",
       "      <td>[13, 12, 15, 5, 4]</td>\n",
       "      <td>[0.71266, 0.71266, 0.635631, 0.457258, 0.457258]</td>\n",
       "    </tr>\n",
       "    <tr>\n",
       "      <th>1</th>\n",
       "      <td>546408</td>\n",
       "      <td>[470, 45, 434, 28, 29]</td>\n",
       "      <td>[0.760274, 0.758144, 0.675339, 0.617515, 0.617515]</td>\n",
       "    </tr>\n",
       "    <tr>\n",
       "      <th>2</th>\n",
       "      <td>546234</td>\n",
       "      <td>[18, 478, 477, 281, 282]</td>\n",
       "      <td>[0.928725, 0.650948, 0.650948, 0.180814, 0.159013]</td>\n",
       "    </tr>\n",
       "    <tr>\n",
       "      <th>3</th>\n",
       "      <td>651258</td>\n",
       "      <td>[404, 405, 403, 455, 211]</td>\n",
       "      <td>[0.700914, 0.700914, 0.66071, 0.188307, 0.165063]</td>\n",
       "    </tr>\n",
       "    <tr>\n",
       "      <th>4</th>\n",
       "      <td>546355</td>\n",
       "      <td>[39, 482, 321, 322, 286]</td>\n",
       "      <td>[0.910428, 0.608733, 0.466645, 0.466645, 0.397241]</td>\n",
       "    </tr>\n",
       "  </tbody>\n",
       "</table>\n",
       "</div>"
      ],
      "text/plain": [
       "  product_key                 product_id  \\\n",
       "0      546227         [13, 12, 15, 5, 4]   \n",
       "1      546408     [470, 45, 434, 28, 29]   \n",
       "2      546234   [18, 478, 477, 281, 282]   \n",
       "3      651258  [404, 405, 403, 455, 211]   \n",
       "4      546355   [39, 482, 321, 322, 286]   \n",
       "\n",
       "                                             pred_sim  \n",
       "0    [0.71266, 0.71266, 0.635631, 0.457258, 0.457258]  \n",
       "1  [0.760274, 0.758144, 0.675339, 0.617515, 0.617515]  \n",
       "2  [0.928725, 0.650948, 0.650948, 0.180814, 0.159013]  \n",
       "3   [0.700914, 0.700914, 0.66071, 0.188307, 0.165063]  \n",
       "4  [0.910428, 0.608733, 0.466645, 0.466645, 0.397241]  "
      ]
     },
     "execution_count": 29,
     "metadata": {},
     "output_type": "execute_result"
    }
   ],
   "source": [
    "df_result = df_dealerprice['product_key']\n",
    "df_result = df_result.to_frame()\n",
    "df_result['product_id'] = result\n",
    "df_result['pred_sim'] = pred_sim.tolist()\n",
    "df_result.head()"
   ]
  },
  {
   "cell_type": "markdown",
   "id": "3fae7dc6-c5cb-4449-a0b5-2af2e931d7be",
   "metadata": {},
   "source": [
    "Сохраним его в файлы. `csv` для визуальной проверки сохраненных данных (в дальнейшем уберём), `json` для бэкенда."
   ]
  },
  {
   "cell_type": "code",
   "execution_count": 30,
   "id": "8c87c7d0-668f-4a9d-8563-69f17cb53cc7",
   "metadata": {},
   "outputs": [],
   "source": [
    "df_result.to_csv(r'my_data.csv', index= False)\n",
    "\n",
    "df_result.to_json(r'my_data', orient='index')"
   ]
  },
  {
   "cell_type": "markdown",
   "id": "914ab376-ee26-4278-b5d8-5f4f0eee16d5",
   "metadata": {},
   "source": [
    "Данный файл будет передаваться в бэкенд один раз при загрузке программы.<br>\n",
    "Проверим точность работы функции `predict`, использовав полученные данные."
   ]
  },
  {
   "cell_type": "markdown",
   "id": "6fe8a897-fbe9-4771-ac71-edbc644b8967",
   "metadata": {},
   "source": [
    "## Валидация решения"
   ]
  },
  {
   "cell_type": "markdown",
   "id": "16425cf5-f675-4575-883c-53cfe2149921",
   "metadata": {},
   "source": [
    "Для проверки точности нашего решения создадим функцию `metric`, которая будет учитывать только попадание в топ-5 правильного названия заказчика, пока без учёта позиции. В дальнейшем будет введена метрика `mean_reciprocal_rank`."
   ]
  },
  {
   "cell_type": "code",
   "execution_count": 31,
   "id": "15e7758d-e74e-483d-b485-1f944faa8250",
   "metadata": {},
   "outputs": [],
   "source": [
    "def metric(actual, pred):\n",
    "    count = 0\n",
    "    for i in range(len(actual)):\n",
    "        if actual[i] in pred[i]:\n",
    "            count += 1\n",
    "    \n",
    "    return round(count /len(actual), 4)"
   ]
  },
  {
   "cell_type": "markdown",
   "id": "5765cb9e-badd-46f8-ba96-cd7c00053d5e",
   "metadata": {},
   "source": [
    "Для проверки метрики воспользуемся датасетом `df_productdealerkey`."
   ]
  },
  {
   "cell_type": "code",
   "execution_count": 32,
   "id": "2680a990-18e9-4989-9517-f41949aa5546",
   "metadata": {},
   "outputs": [
    {
     "data": {
      "text/html": [
       "<div>\n",
       "<style scoped>\n",
       "    .dataframe tbody tr th:only-of-type {\n",
       "        vertical-align: middle;\n",
       "    }\n",
       "\n",
       "    .dataframe tbody tr th {\n",
       "        vertical-align: top;\n",
       "    }\n",
       "\n",
       "    .dataframe thead th {\n",
       "        text-align: right;\n",
       "    }\n",
       "</style>\n",
       "<table border=\"1\" class=\"dataframe\">\n",
       "  <thead>\n",
       "    <tr style=\"text-align: right;\">\n",
       "      <th></th>\n",
       "      <th>key</th>\n",
       "      <th>product_id</th>\n",
       "    </tr>\n",
       "  </thead>\n",
       "  <tbody>\n",
       "    <tr>\n",
       "      <th>0</th>\n",
       "      <td>546227</td>\n",
       "      <td>12</td>\n",
       "    </tr>\n",
       "    <tr>\n",
       "      <th>1</th>\n",
       "      <td>651265</td>\n",
       "      <td>106</td>\n",
       "    </tr>\n",
       "    <tr>\n",
       "      <th>2</th>\n",
       "      <td>546257</td>\n",
       "      <td>200</td>\n",
       "    </tr>\n",
       "    <tr>\n",
       "      <th>3</th>\n",
       "      <td>546408</td>\n",
       "      <td>38</td>\n",
       "    </tr>\n",
       "    <tr>\n",
       "      <th>4</th>\n",
       "      <td>651258</td>\n",
       "      <td>403</td>\n",
       "    </tr>\n",
       "  </tbody>\n",
       "</table>\n",
       "</div>"
      ],
      "text/plain": [
       "      key  product_id\n",
       "0  546227          12\n",
       "1  651265         106\n",
       "2  546257         200\n",
       "3  546408          38\n",
       "4  651258         403"
      ]
     },
     "execution_count": 32,
     "metadata": {},
     "output_type": "execute_result"
    }
   ],
   "source": [
    "df_productdealerkey[['key', 'product_id']].head()"
   ]
  },
  {
   "cell_type": "code",
   "execution_count": 33,
   "id": "c985e266-133e-4952-95ad-a178dba24442",
   "metadata": {},
   "outputs": [],
   "source": [
    "df = df_result.merge(df_productdealerkey[['key', 'product_id']], left_on='product_key', right_on='key')"
   ]
  },
  {
   "cell_type": "code",
   "execution_count": 34,
   "id": "320eb6b5-6bdc-402e-bc5c-9b5b1fccb227",
   "metadata": {},
   "outputs": [
    {
     "data": {
      "text/html": [
       "<div>\n",
       "<style scoped>\n",
       "    .dataframe tbody tr th:only-of-type {\n",
       "        vertical-align: middle;\n",
       "    }\n",
       "\n",
       "    .dataframe tbody tr th {\n",
       "        vertical-align: top;\n",
       "    }\n",
       "\n",
       "    .dataframe thead th {\n",
       "        text-align: right;\n",
       "    }\n",
       "</style>\n",
       "<table border=\"1\" class=\"dataframe\">\n",
       "  <thead>\n",
       "    <tr style=\"text-align: right;\">\n",
       "      <th></th>\n",
       "      <th>product_key</th>\n",
       "      <th>product_id_x</th>\n",
       "      <th>pred_sim</th>\n",
       "      <th>key</th>\n",
       "      <th>product_id_y</th>\n",
       "    </tr>\n",
       "  </thead>\n",
       "  <tbody>\n",
       "    <tr>\n",
       "      <th>0</th>\n",
       "      <td>546227</td>\n",
       "      <td>[13, 12, 15, 5, 4]</td>\n",
       "      <td>[0.71266, 0.71266, 0.635631, 0.457258, 0.457258]</td>\n",
       "      <td>546227</td>\n",
       "      <td>12</td>\n",
       "    </tr>\n",
       "    <tr>\n",
       "      <th>1</th>\n",
       "      <td>546408</td>\n",
       "      <td>[470, 45, 434, 28, 29]</td>\n",
       "      <td>[0.760274, 0.758144, 0.675339, 0.617515, 0.617515]</td>\n",
       "      <td>546408</td>\n",
       "      <td>38</td>\n",
       "    </tr>\n",
       "    <tr>\n",
       "      <th>2</th>\n",
       "      <td>546234</td>\n",
       "      <td>[18, 478, 477, 281, 282]</td>\n",
       "      <td>[0.928725, 0.650948, 0.650948, 0.180814, 0.159013]</td>\n",
       "      <td>546234</td>\n",
       "      <td>18</td>\n",
       "    </tr>\n",
       "    <tr>\n",
       "      <th>3</th>\n",
       "      <td>651258</td>\n",
       "      <td>[404, 405, 403, 455, 211]</td>\n",
       "      <td>[0.700914, 0.700914, 0.66071, 0.188307, 0.165063]</td>\n",
       "      <td>651258</td>\n",
       "      <td>403</td>\n",
       "    </tr>\n",
       "    <tr>\n",
       "      <th>4</th>\n",
       "      <td>546355</td>\n",
       "      <td>[39, 482, 321, 322, 286]</td>\n",
       "      <td>[0.910428, 0.608733, 0.466645, 0.466645, 0.397241]</td>\n",
       "      <td>546355</td>\n",
       "      <td>39</td>\n",
       "    </tr>\n",
       "  </tbody>\n",
       "</table>\n",
       "</div>"
      ],
      "text/plain": [
       "  product_key               product_id_x  \\\n",
       "0      546227         [13, 12, 15, 5, 4]   \n",
       "1      546408     [470, 45, 434, 28, 29]   \n",
       "2      546234   [18, 478, 477, 281, 282]   \n",
       "3      651258  [404, 405, 403, 455, 211]   \n",
       "4      546355   [39, 482, 321, 322, 286]   \n",
       "\n",
       "                                             pred_sim     key  product_id_y  \n",
       "0    [0.71266, 0.71266, 0.635631, 0.457258, 0.457258]  546227            12  \n",
       "1  [0.760274, 0.758144, 0.675339, 0.617515, 0.617515]  546408            38  \n",
       "2  [0.928725, 0.650948, 0.650948, 0.180814, 0.159013]  546234            18  \n",
       "3   [0.700914, 0.700914, 0.66071, 0.188307, 0.165063]  651258           403  \n",
       "4  [0.910428, 0.608733, 0.466645, 0.466645, 0.397241]  546355            39  "
      ]
     },
     "execution_count": 34,
     "metadata": {},
     "output_type": "execute_result"
    }
   ],
   "source": [
    "df.head()"
   ]
  },
  {
   "cell_type": "code",
   "execution_count": 35,
   "id": "ed68806b-c7fd-4df2-a508-b2f357d299b3",
   "metadata": {},
   "outputs": [
    {
     "data": {
      "text/plain": [
       "0.8687"
      ]
     },
     "execution_count": 35,
     "metadata": {},
     "output_type": "execute_result"
    }
   ],
   "source": [
    "metric(df.product_id_y, df.product_id_x)"
   ]
  },
  {
   "cell_type": "markdown",
   "id": "41aef63d-927c-4d53-b00b-598f5c0e2314",
   "metadata": {},
   "source": [
    "**0.8687** - 87% правильных названий заказчиков попали в топ-5 (пока без учёта позиции!). Без блока с предобработкой текста данный параметр ровнялся 76%. Но пока всё равно не 100. Проверим позиции, по которым наша функция `predict` выдала ошибочные предсказания."
   ]
  },
  {
   "cell_type": "markdown",
   "id": "e8869327-6d5a-4aab-89fd-8c27e873711d",
   "metadata": {},
   "source": [
    "## Анализ ошибочных предсказаний"
   ]
  },
  {
   "cell_type": "markdown",
   "id": "ac9a70c7-e5f9-4620-b4c2-5e0505983a81",
   "metadata": {},
   "source": [
    "Создадим и запустим функцию `first_n_no_match` для визуализации `n` первых ошибочных предсказаний."
   ]
  },
  {
   "cell_type": "code",
   "execution_count": 36,
   "id": "532a6602-8bee-4794-a0d2-efd5dd472f8e",
   "metadata": {
    "scrolled": true
   },
   "outputs": [
    {
     "name": "stdout",
     "output_type": "stream",
     "text": [
      "i 1 actual 38 pred [470, 45, 434, 28, 29] pred_sim [0.760274, 0.758144, 0.675339, 0.617515, 0.617515]\n",
      "i 17 actual 307 pred [259, 260, 261, 262, 306] pred_sim [0.484167, 0.484167, 0.44935, 0.432372, 0.397735]\n",
      "i 19 actual 234 pred [496, 229, 228, 485, 232] pred_sim [0.385151, 0.261053, 0.261053, 0.260991, 0.244707]\n",
      "i 25 actual 276 pred [271, 272, 273, 275, 274] pred_sim [0.789599, 0.740264, 0.711377, 0.700744, 0.672044]\n",
      "i 29 actual 235 pred [496, 229, 228, 485, 232] pred_sim [0.385151, 0.261053, 0.261053, 0.260991, 0.244707]\n",
      "i 42 actual 55 pred [53, 54, 50, 51, 52] pred_sim [0.438065, 0.438065, 0.423054, 0.423054, 0.420493]\n",
      "i 43 actual 52 pred [54, 53, 50, 51, 57] pred_sim [0.37315, 0.37315, 0.360363, 0.360363, 0.358441]\n",
      "i 63 actual 332 pred [336, 335, 334, 350, 349] pred_sim [0.593076, 0.593076, 0.593076, 0.589857, 0.589857]\n",
      "i 64 actual 356 pred [336, 335, 334, 350, 349] pred_sim [0.593076, 0.593076, 0.593076, 0.589857, 0.589857]\n",
      "i 65 actual 341 pred [336, 335, 334, 350, 349] pred_sim [0.593076, 0.593076, 0.593076, 0.589857, 0.589857]\n",
      "i 67 actual 344 pred [336, 335, 334, 350, 349] pred_sim [0.593076, 0.593076, 0.593076, 0.589857, 0.589857]\n",
      "i 68 actual 353 pred [336, 335, 334, 350, 349] pred_sim [0.593076, 0.593076, 0.593076, 0.589857, 0.589857]\n",
      "i 69 actual 347 pred [336, 335, 334, 350, 349] pred_sim [0.593076, 0.593076, 0.593076, 0.589857, 0.589857]\n",
      "i 71 actual 338 pred [336, 335, 334, 350, 349] pred_sim [0.593076, 0.593076, 0.593076, 0.589857, 0.589857]\n",
      "i 72 actual 333 pred [336, 335, 334, 350, 349] pred_sim [0.593076, 0.593076, 0.593076, 0.589857, 0.589857]\n",
      "i 73 actual 357 pred [336, 335, 334, 350, 349] pred_sim [0.593076, 0.593076, 0.593076, 0.589857, 0.589857]\n",
      "i 74 actual 342 pred [336, 335, 334, 350, 349] pred_sim [0.593076, 0.593076, 0.593076, 0.589857, 0.589857]\n",
      "i 76 actual 345 pred [336, 335, 334, 350, 349] pred_sim [0.593076, 0.593076, 0.593076, 0.589857, 0.589857]\n",
      "i 77 actual 354 pred [336, 335, 334, 350, 349] pred_sim [0.593076, 0.593076, 0.593076, 0.589857, 0.589857]\n",
      "i 78 actual 339 pred [336, 335, 334, 350, 349] pred_sim [0.593076, 0.593076, 0.593076, 0.589857, 0.589857]\n",
      "i 79 actual 348 pred [336, 335, 334, 350, 349] pred_sim [0.593076, 0.593076, 0.593076, 0.589857, 0.589857]\n",
      "i 80 actual 331 pred [336, 335, 334, 350, 349] pred_sim [0.593076, 0.593076, 0.593076, 0.589857, 0.589857]\n",
      "i 81 actual 355 pred [336, 335, 334, 350, 349] pred_sim [0.593076, 0.593076, 0.593076, 0.589857, 0.589857]\n",
      "i 82 actual 340 pred [336, 335, 334, 350, 349] pred_sim [0.593076, 0.593076, 0.593076, 0.589857, 0.589857]\n",
      "i 84 actual 343 pred [336, 335, 334, 350, 349] pred_sim [0.593076, 0.593076, 0.593076, 0.589857, 0.589857]\n",
      "i 85 actual 352 pred [336, 335, 334, 350, 349] pred_sim [0.593076, 0.593076, 0.593076, 0.589857, 0.589857]\n",
      "i 86 actual 337 pred [336, 335, 334, 350, 349] pred_sim [0.593076, 0.593076, 0.593076, 0.589857, 0.589857]\n",
      "i 87 actual 346 pred [336, 335, 334, 350, 349] pred_sim [0.593076, 0.593076, 0.593076, 0.589857, 0.589857]\n",
      "i 93 actual 192 pred [9, 8, 11, 10, 68] pred_sim [0.622081, 0.622081, 0.484478, 0.484478, 0.351058]\n",
      "i 94 actual 191 pred [9, 8, 11, 10, 68] pred_sim [0.622081, 0.622081, 0.484478, 0.484478, 0.351058]\n",
      "i 102 actual 372 pred [364, 448, 362, 376, 462] pred_sim [0.76327, 0.76327, 0.606856, 0.568219, 0.568219]\n",
      "i 110 actual 377 pred [381, 382, 379, 378, 380] pred_sim [0.657058, 0.623388, 0.372117, 0.372117, 0.372117]\n",
      "i 127 actual 427 pred [431, 430, 418, 419, 228] pred_sim [0.310058, 0.310058, 0.305587, 0.305587, 0.296415]\n",
      "i 129 actual 421 pred [431, 430, 418, 419, 228] pred_sim [0.310058, 0.310058, 0.305587, 0.305587, 0.296415]\n",
      "i 147 actual 428 pred [431, 430, 418, 419, 228] pred_sim [0.310058, 0.310058, 0.305587, 0.305587, 0.296415]\n",
      "i 149 actual 422 pred [431, 430, 418, 419, 228] pred_sim [0.310058, 0.310058, 0.305587, 0.305587, 0.296415]\n",
      "i 209 actual 253 pred [279, 264, 263, 284, 257] pred_sim [0.541017, 0.527427, 0.527427, 0.51907, 0.511652]\n",
      "i 212 actual 254 pred [279, 264, 263, 284, 257] pred_sim [0.541017, 0.527427, 0.527427, 0.51907, 0.511652]\n",
      "i 220 actual 263 pred [286, 287, 321, 322, 39] pred_sim [0.803467, 0.770009, 0.563894, 0.563894, 0.477686]\n",
      "i 221 actual 264 pred [286, 287, 321, 322, 39] pred_sim [0.803467, 0.770009, 0.563894, 0.563894, 0.477686]\n",
      "i 225 actual 251 pred [277, 249, 250, 247, 273] pred_sim [0.530763, 0.51118, 0.51118, 0.493101, 0.440188]\n",
      "i 227 actual 252 pred [248, 250, 249, 275, 251] pred_sim [0.531197, 0.496775, 0.496775, 0.41853, 0.411915]\n",
      "i 276 actual 104 pred [100, 101, 97, 102, 98] pred_sim [0.432336, 0.425386, 0.423473, 0.420818, 0.416936]\n",
      "i 277 actual 105 pred [100, 101, 97, 102, 98] pred_sim [0.432336, 0.425386, 0.423473, 0.420818, 0.416936]\n",
      "i 291 actual 141 pred [143, 144, 138, 137, 142] pred_sim [0.410374, 0.410374, 0.38798, 0.38798, 0.379368]\n",
      "i 318 actual 38 pred [470, 45, 434, 29, 28] pred_sim [0.640371, 0.638577, 0.568831, 0.520126, 0.520126]\n",
      "i 377 actual 6 pred [260, 259, 261, 82, 83] pred_sim [0.355588, 0.355588, 0.330017, 0.329976, 0.318189]\n",
      "i 378 actual 7 pred [260, 259, 261, 82, 83] pred_sim [0.355588, 0.355588, 0.330017, 0.329976, 0.318189]\n",
      "i 408 actual 65 pred [73, 30, 72, 76, 75] pred_sim [0.075133, 0.072164, 0.068239, 0.066467, 0.066467]\n",
      "i 409 actual 67 pred [510, 394, 395, 393, 391] pred_sim [0.599536, 0.494545, 0.494545, 0.489153, 0.269013]\n",
      "i 411 actual 20 pred [73, 72, 18, 75, 74] pred_sim [0.184862, 0.167899, 0.167432, 0.163538, 0.163538]\n",
      "i 413 actual 390 pred [68, 67, 510, 391, 392] pred_sim [0.434703, 0.434703, 0.417191, 0.302929, 0.302929]\n",
      "i 426 actual 74 pred [1, 68, 67, 121, 122] pred_sim [0.132603, 0.111164, 0.111164, 0.107799, 0.107799]\n",
      "i 428 actual 26 pred [5, 4, 13, 12, 6] pred_sim [0.293487, 0.293487, 0.287251, 0.287251, 0.260015]\n",
      "i 434 actual 38 pred [470, 45, 434, 29, 28] pred_sim [0.607457, 0.565991, 0.539593, 0.461004, 0.461004]\n",
      "i 440 actual 246 pred [281, 282, 279, 280, 275] pred_sim [0.408352, 0.359117, 0.349047, 0.316783, 0.315479]\n",
      "i 441 actual 272 pred [281, 282, 279, 245, 246] pred_sim [0.132013, 0.116096, 0.11284, 0.104529, 0.104529]\n",
      "i 443 actual 275 pred [281, 282, 279, 245, 246] pred_sim [0.108018, 0.094995, 0.092331, 0.08553, 0.08553]\n",
      "i 445 actual 276 pred [281, 282, 279, 245, 246] pred_sim [0.108018, 0.094995, 0.092331, 0.08553, 0.08553]\n",
      "i 451 actual 269 pred [241, 240, 242, 243, 452] pred_sim [0.122386, 0.122386, 0.11559, 0.111541, 0.108409]\n",
      "i 453 actual 270 pred [240, 241, 242, 243, 452] pred_sim [0.11715, 0.11715, 0.110645, 0.106769, 0.103771]\n",
      "i 457 actual 72 pred [1, 67, 68, 121, 122] pred_sim [0.08411, 0.070512, 0.070512, 0.068377, 0.068377]\n",
      "i 463 actual 390 pred [67, 68, 510, 391, 392] pred_sim [0.251972, 0.251972, 0.224755, 0.175591, 0.175591]\n",
      "i 465 actual 26 pred [30, 470, 513, 38, 45] pred_sim [0.305721, 0.277191, 0.260156, 0.258535, 0.25827]\n",
      "i 467 actual 403 pred [54, 53, 51, 50, 58] pred_sim [0.224235, 0.224235, 0.21655, 0.21655, 0.215396]\n",
      "i 473 actual 74 pred [1, 68, 67, 122, 121] pred_sim [0.137216, 0.115032, 0.115032, 0.11155, 0.11155]\n",
      "i 477 actual 65 pred [470, 30, 201, 202, 200] pred_sim [0.073171, 0.068901, 0.068757, 0.068757, 0.068757]\n",
      "i 479 actual 408 pred [73, 30, 72, 76, 75] pred_sim [0.074554, 0.071608, 0.067713, 0.065954, 0.065954]\n",
      "i 481 actual 204 pred [30, 201, 200, 202, 203] pred_sim [0.113794, 0.113555, 0.113555, 0.113555, 0.103755]\n",
      "i 491 actual 299 pred [251, 479, 306, 301, 241] pred_sim [0.224738, 0.201274, 0.107083, 0.106954, 0.106908]\n",
      "i 493 actual 298 pred [306, 301, 240, 241, 307] pred_sim [0.109386, 0.109255, 0.109208, 0.109208, 0.10452]\n",
      "i 495 actual 476 pred [242, 298, 307, 295, 302] pred_sim [0.186265, 0.180152, 0.180152, 0.179955, 0.179955]\n",
      "i 496 actual 476 pred [307, 298, 295, 302, 452] pred_sim [0.458624, 0.458624, 0.458122, 0.458122, 0.346561]\n",
      "i 497 actual 389 pred [282, 246, 245, 280, 276] pred_sim [0.121394, 0.109299, 0.109299, 0.107083, 0.098386]\n",
      "i 498 actual 389 pred [245, 246, 282, 247, 280] pred_sim [0.218476, 0.218476, 0.216212, 0.190925, 0.190724]\n",
      "i 503 actual 406 pred [52, 126, 176, 180, 175] pred_sim [0.0, 0.0, 0.0, 0.0, 0.0]\n",
      "i 513 actual 290 pred [67, 68, 510, 391, 392] pred_sim [0.259324, 0.259324, 0.231313, 0.180714, 0.180714]\n",
      "i 514 actual 290 pred [68, 67, 510, 391, 392] pred_sim [0.304844, 0.304844, 0.292564, 0.212435, 0.212435]\n",
      "i 515 actual 249 pred [442, 373, 374, 375, 349] pred_sim [0.25858, 0.25858, 0.24474, 0.24474, 0.219458]\n",
      "i 516 actual 249 pred [271, 272, 273, 274, 245] pred_sim [0.713963, 0.669354, 0.643234, 0.607669, 0.59271]\n",
      "i 517 actual 250 pred [442, 373, 375, 374, 349] pred_sim [0.262658, 0.262658, 0.248599, 0.248599, 0.222918]\n",
      "i 518 actual 250 pred [271, 272, 273, 274, 245] pred_sim [0.713963, 0.669354, 0.643234, 0.607669, 0.59271]\n",
      "i 519 actual 291 pred [67, 68, 510, 395, 394] pred_sim [0.234758, 0.234758, 0.2094, 0.209186, 0.209186]\n",
      "i 521 actual 106 pred [73, 72, 75, 74, 76] pred_sim [0.051904, 0.047141, 0.045917, 0.045917, 0.045917]\n",
      "i 522 actual 106 pred [100, 101, 97, 102, 98] pred_sim [0.286097, 0.281498, 0.280232, 0.278475, 0.275906]\n",
      "i 533 actual 245 pred [52, 126, 176, 180, 175] pred_sim [0.0, 0.0, 0.0, 0.0, 0.0]\n",
      "i 537 actual 16 pred [20, 73, 72, 75, 74] pred_sim [0.07175, 0.058197, 0.052857, 0.051484, 0.051484]\n",
      "i 541 actual 46 pred [12, 13, 15, 165, 164] pred_sim [0.164363, 0.164363, 0.146598, 0.131227, 0.130412]\n",
      "i 543 actual 123 pred [73, 72, 75, 74, 76] pred_sim [0.060942, 0.05535, 0.053912, 0.053912, 0.053912]\n",
      "i 545 actual 39 pred [12, 13, 15, 165, 164] pred_sim [0.174888, 0.174888, 0.155985, 0.13963, 0.138762]\n",
      "i 549 actual 158 pred [52, 126, 176, 180, 175] pred_sim [0.0, 0.0, 0.0, 0.0, 0.0]\n",
      "i 551 actual 152 pred [52, 126, 176, 180, 175] pred_sim [0.0, 0.0, 0.0, 0.0, 0.0]\n",
      "i 553 actual 105 pred [52, 126, 176, 180, 175] pred_sim [0.0, 0.0, 0.0, 0.0, 0.0]\n",
      "i 554 actual 105 pred [508, 100, 509, 101, 97] pred_sim [0.501649, 0.470044, 0.467118, 0.462488, 0.460408]\n",
      "i 555 actual 103 pred [52, 126, 176, 180, 175] pred_sim [0.0, 0.0, 0.0, 0.0, 0.0]\n",
      "i 556 actual 103 pred [100, 101, 97, 102, 98] pred_sim [0.463516, 0.456065, 0.454014, 0.451167, 0.447005]\n",
      "i 559 actual 44 pred [30, 513, 470, 41, 40] pred_sim [0.362978, 0.308879, 0.30205, 0.295689, 0.295689]\n",
      "i 571 actual 276 pred [271, 272, 273, 275, 274] pred_sim [0.789599, 0.740264, 0.711377, 0.700744, 0.672044]\n",
      "i 580 actual 38 pred [30, 23, 22, 25, 24] pred_sim [0.641422, 0.424324, 0.424324, 0.421004, 0.421004]\n",
      "99\n"
     ]
    }
   ],
   "source": [
    "def first_n_no_match(actual, pred, pred_sim, n):\n",
    "    count = 0\n",
    "    for i in range(n):\n",
    "        if actual[i] not in pred[i]:\n",
    "            print('i', i ,'actual' , actual[i], 'pred', pred[i], 'pred_sim', pred_sim[i])\n",
    "            count += 1\n",
    "    return count\n",
    "    \n",
    "print(first_n_no_match(df.product_id_y, df.product_id_x, df.pred_sim,  600))"
   ]
  },
  {
   "cell_type": "markdown",
   "id": "a71591fd-b4be-476f-9c58-1b084076d1ec",
   "metadata": {},
   "source": [
    "Посмотрим на позицию `i 42 actual 55 pred [53, 54, 50, 51, 52] pred_sim [0.438065, 0.438065, 0.423054, 0.423054, 0.420493]`. Много предсказаний являются соседями. Так же смущают одинаковое сходство для разных позиций."
   ]
  },
  {
   "cell_type": "code",
   "execution_count": 37,
   "id": "81ae484b-d753-4c93-88ac-bf0be9057619",
   "metadata": {},
   "outputs": [
    {
     "data": {
      "text/plain": [
       "product_key                                                 716500\n",
       "product_id_x                                  [53, 54, 50, 51, 52]\n",
       "pred_sim        [0.438065, 0.438065, 0.423054, 0.423054, 0.420493]\n",
       "key                                                         716500\n",
       "product_id_y                                                    55\n",
       "Name: 42, dtype: object"
      ]
     },
     "execution_count": 37,
     "metadata": {},
     "output_type": "execute_result"
    }
   ],
   "source": [
    "df.iloc[42]"
   ]
  },
  {
   "cell_type": "code",
   "execution_count": 38,
   "id": "a79aa594-b160-4c5d-9531-5a8c3f88c937",
   "metadata": {},
   "outputs": [
    {
     "data": {
      "text/html": [
       "<div>\n",
       "<style scoped>\n",
       "    .dataframe tbody tr th:only-of-type {\n",
       "        vertical-align: middle;\n",
       "    }\n",
       "\n",
       "    .dataframe tbody tr th {\n",
       "        vertical-align: top;\n",
       "    }\n",
       "\n",
       "    .dataframe thead th {\n",
       "        text-align: right;\n",
       "    }\n",
       "</style>\n",
       "<table border=\"1\" class=\"dataframe\">\n",
       "  <thead>\n",
       "    <tr style=\"text-align: right;\">\n",
       "      <th></th>\n",
       "      <th>id</th>\n",
       "      <th>name</th>\n",
       "    </tr>\n",
       "    <tr>\n",
       "      <th>id_unique</th>\n",
       "      <th></th>\n",
       "      <th></th>\n",
       "    </tr>\n",
       "  </thead>\n",
       "  <tbody>\n",
       "    <tr>\n",
       "      <th>313</th>\n",
       "      <td>50</td>\n",
       "      <td>средство    удаления  ржавчины  минеральных отложений щадящего действия bath acid концентрат 1 200 1 500   1 л</td>\n",
       "    </tr>\n",
       "    <tr>\n",
       "      <th>314</th>\n",
       "      <td>53</td>\n",
       "      <td>средство  усиленного действия   удаления  ржавчины  минеральных отложений bath acid    концентрат 1 200 1 500   1 л</td>\n",
       "    </tr>\n",
       "    <tr>\n",
       "      <th>428</th>\n",
       "      <td>51</td>\n",
       "      <td>средство    удаления  ржавчины  минеральных отложений щадящего действия bath acid концентрат 1 200 1 500   5 л</td>\n",
       "    </tr>\n",
       "    <tr>\n",
       "      <th>435</th>\n",
       "      <td>54</td>\n",
       "      <td>средство  усиленного действия   удаления  ржавчины  минеральных отложений bath acid   концентрат 1 200 1 500   5 л</td>\n",
       "    </tr>\n",
       "    <tr>\n",
       "      <th>486</th>\n",
       "      <td>52</td>\n",
       "      <td>средство  усиленного действия   удаления  ржавчины  минеральных отложений bath acid    концентрат 1 200 1 500   0 75 л</td>\n",
       "    </tr>\n",
       "  </tbody>\n",
       "</table>\n",
       "</div>"
      ],
      "text/plain": [
       "           id  \\\n",
       "id_unique       \n",
       "313        50   \n",
       "314        53   \n",
       "428        51   \n",
       "435        54   \n",
       "486        52   \n",
       "\n",
       "                                                                                                                              name  \n",
       "id_unique                                                                                                                           \n",
       "313                средство    удаления  ржавчины  минеральных отложений щадящего действия bath acid концентрат 1 200 1 500   1 л   \n",
       "314           средство  усиленного действия   удаления  ржавчины  минеральных отложений bath acid    концентрат 1 200 1 500   1 л   \n",
       "428                средство    удаления  ржавчины  минеральных отложений щадящего действия bath acid концентрат 1 200 1 500   5 л   \n",
       "435            средство  усиленного действия   удаления  ржавчины  минеральных отложений bath acid   концентрат 1 200 1 500   5 л   \n",
       "486        средство  усиленного действия   удаления  ржавчины  минеральных отложений bath acid    концентрат 1 200 1 500   0 75 л   "
      ]
     },
     "execution_count": 38,
     "metadata": {},
     "output_type": "execute_result"
    }
   ],
   "source": [
    "df_product[df_product.id.isin(df.iloc[42].product_id_x)]"
   ]
  },
  {
   "cell_type": "code",
   "execution_count": 39,
   "id": "a7ccd727-67d6-4046-8786-7800ab76ed96",
   "metadata": {},
   "outputs": [
    {
     "data": {
      "text/html": [
       "<div>\n",
       "<style scoped>\n",
       "    .dataframe tbody tr th:only-of-type {\n",
       "        vertical-align: middle;\n",
       "    }\n",
       "\n",
       "    .dataframe tbody tr th {\n",
       "        vertical-align: top;\n",
       "    }\n",
       "\n",
       "    .dataframe thead th {\n",
       "        text-align: right;\n",
       "    }\n",
       "</style>\n",
       "<table border=\"1\" class=\"dataframe\">\n",
       "  <thead>\n",
       "    <tr style=\"text-align: right;\">\n",
       "      <th></th>\n",
       "      <th>product_key</th>\n",
       "      <th>product_name</th>\n",
       "    </tr>\n",
       "  </thead>\n",
       "  <tbody>\n",
       "    <tr>\n",
       "      <th>42</th>\n",
       "      <td>716500</td>\n",
       "      <td>средство    удаления  ржавчины  минеральных отложений 0 75л bath acid prosept цитрус 294 075</td>\n",
       "    </tr>\n",
       "  </tbody>\n",
       "</table>\n",
       "</div>"
      ],
      "text/plain": [
       "   product_key  \\\n",
       "42      716500   \n",
       "\n",
       "                                                                                    product_name  \n",
       "42  средство    удаления  ржавчины  минеральных отложений 0 75л bath acid prosept цитрус 294 075  "
      ]
     },
     "execution_count": 39,
     "metadata": {},
     "output_type": "execute_result"
    }
   ],
   "source": [
    "df_dealerprice[df_dealerprice.product_key == df.iloc[42].product_key]"
   ]
  },
  {
   "cell_type": "markdown",
   "id": "2a8132e8-fb73-4c42-bb08-793013be5176",
   "metadata": {},
   "source": [
    "Это позиции заказчика для похожих товаров, которые отличаются объёмом и парой слов. А сходство идентично в тез позициях, где разница лишь в цифре объёма. Видимо наш метод не очень хорошо отличает числа."
   ]
  },
  {
   "cell_type": "markdown",
   "id": "2c097e74-79de-48ee-810b-6f48dd9835e0",
   "metadata": {},
   "source": [
    "Теперь посмотрим на позицию `i 503 actual 406 pred [52, 126, 176, 180, 175] pred_sim [0.0, 0.0, 0.0, 0.0, 0.0]`"
   ]
  },
  {
   "cell_type": "code",
   "execution_count": 40,
   "id": "084ce989-e9c7-4e7e-adab-a0892b9f5c1f",
   "metadata": {},
   "outputs": [
    {
     "data": {
      "text/plain": [
       "product_key                    1001472194\n",
       "product_id_x     [52, 126, 176, 180, 175]\n",
       "pred_sim        [0.0, 0.0, 0.0, 0.0, 0.0]\n",
       "key                            1001472194\n",
       "product_id_y                          406\n",
       "Name: 503, dtype: object"
      ]
     },
     "execution_count": 40,
     "metadata": {},
     "output_type": "execute_result"
    }
   ],
   "source": [
    "df.iloc[503]"
   ]
  },
  {
   "cell_type": "code",
   "execution_count": 41,
   "id": "50c9b4af-ce5f-496b-9938-1e04af7a78b7",
   "metadata": {},
   "outputs": [
    {
     "data": {
      "text/html": [
       "<div>\n",
       "<style scoped>\n",
       "    .dataframe tbody tr th:only-of-type {\n",
       "        vertical-align: middle;\n",
       "    }\n",
       "\n",
       "    .dataframe tbody tr th {\n",
       "        vertical-align: top;\n",
       "    }\n",
       "\n",
       "    .dataframe thead th {\n",
       "        text-align: right;\n",
       "    }\n",
       "</style>\n",
       "<table border=\"1\" class=\"dataframe\">\n",
       "  <thead>\n",
       "    <tr style=\"text-align: right;\">\n",
       "      <th></th>\n",
       "      <th>id</th>\n",
       "      <th>name</th>\n",
       "    </tr>\n",
       "    <tr>\n",
       "      <th>id_unique</th>\n",
       "      <th></th>\n",
       "      <th></th>\n",
       "    </tr>\n",
       "  </thead>\n",
       "  <tbody>\n",
       "    <tr>\n",
       "      <th>153</th>\n",
       "      <td>176</td>\n",
       "      <td>жидкое гель мыло эконом класса  без красителей  ароматизаторов diona e готовый состав   5 л</td>\n",
       "    </tr>\n",
       "    <tr>\n",
       "      <th>154</th>\n",
       "      <td>180</td>\n",
       "      <td>пенное мыло   дозаторов   цветочным ароматом diona aroma концентрат   5 л</td>\n",
       "    </tr>\n",
       "    <tr>\n",
       "      <th>155</th>\n",
       "      <td>175</td>\n",
       "      <td>жидкое гель мыло эконом класса  без красителей  ароматизаторов diona e готовый состав   5 л пэт</td>\n",
       "    </tr>\n",
       "    <tr>\n",
       "      <th>181</th>\n",
       "      <td>126</td>\n",
       "      <td>средство    комплексного мытья   отбеливания поверхностей  дезинфицирующим эффектом duty belizna концентрат 1 200 1 3000   5 л</td>\n",
       "    </tr>\n",
       "    <tr>\n",
       "      <th>486</th>\n",
       "      <td>52</td>\n",
       "      <td>средство  усиленного действия   удаления  ржавчины  минеральных отложений bath acid    концентрат 1 200 1 500   0 75 л</td>\n",
       "    </tr>\n",
       "  </tbody>\n",
       "</table>\n",
       "</div>"
      ],
      "text/plain": [
       "            id  \\\n",
       "id_unique        \n",
       "153        176   \n",
       "154        180   \n",
       "155        175   \n",
       "181        126   \n",
       "486         52   \n",
       "\n",
       "                                                                                                                                      name  \n",
       "id_unique                                                                                                                                   \n",
       "153                                           жидкое гель мыло эконом класса  без красителей  ароматизаторов diona e готовый состав   5 л   \n",
       "154                                                             пенное мыло   дозаторов   цветочным ароматом diona aroma концентрат   5 л   \n",
       "155                                        жидкое гель мыло эконом класса  без красителей  ароматизаторов diona e готовый состав   5 л пэт  \n",
       "181        средство    комплексного мытья   отбеливания поверхностей  дезинфицирующим эффектом duty belizna концентрат 1 200 1 3000   5 л   \n",
       "486                средство  усиленного действия   удаления  ржавчины  минеральных отложений bath acid    концентрат 1 200 1 500   0 75 л   "
      ]
     },
     "execution_count": 41,
     "metadata": {},
     "output_type": "execute_result"
    }
   ],
   "source": [
    "df_product[df_product.id.isin(df.iloc[503].product_id_x)]"
   ]
  },
  {
   "cell_type": "code",
   "execution_count": 42,
   "id": "eb4d1422-b2b4-468a-aea6-d39c4010a1c6",
   "metadata": {},
   "outputs": [
    {
     "data": {
      "text/html": [
       "<div>\n",
       "<style scoped>\n",
       "    .dataframe tbody tr th:only-of-type {\n",
       "        vertical-align: middle;\n",
       "    }\n",
       "\n",
       "    .dataframe tbody tr th {\n",
       "        vertical-align: top;\n",
       "    }\n",
       "\n",
       "    .dataframe thead th {\n",
       "        text-align: right;\n",
       "    }\n",
       "</style>\n",
       "<table border=\"1\" class=\"dataframe\">\n",
       "  <thead>\n",
       "    <tr style=\"text-align: right;\">\n",
       "      <th></th>\n",
       "      <th>product_key</th>\n",
       "      <th>product_name</th>\n",
       "    </tr>\n",
       "  </thead>\n",
       "  <tbody>\n",
       "    <tr>\n",
       "      <th>456</th>\n",
       "      <td>1001472194</td>\n",
       "      <td>добавкапротивплесени prosept041 025 0 25л</td>\n",
       "    </tr>\n",
       "    <tr>\n",
       "      <th>4131</th>\n",
       "      <td>1001472194</td>\n",
       "      <td>добавка против плесени prosept 041 025  0 25 л</td>\n",
       "    </tr>\n",
       "  </tbody>\n",
       "</table>\n",
       "</div>"
      ],
      "text/plain": [
       "     product_key                                    product_name\n",
       "456   1001472194       добавкапротивплесени prosept041 025 0 25л\n",
       "4131  1001472194  добавка против плесени prosept 041 025  0 25 л"
      ]
     },
     "execution_count": 42,
     "metadata": {},
     "output_type": "execute_result"
    }
   ],
   "source": [
    "df_dealerprice[df_dealerprice.product_key == df.iloc[503].product_key]"
   ]
  },
  {
   "cell_type": "markdown",
   "id": "74061182-2f29-494b-8ced-bcd373ec8dd6",
   "metadata": {},
   "source": [
    "Данная позиция имеет дубликат по `product_key`, и является двумя видами написания одного товара. При этом сходство данного товара равно нулю к любой позиции заказчика. Посмотрим, есть ли соответствие названию заказчика через таблицу с результатами ручного парсинга."
   ]
  },
  {
   "cell_type": "code",
   "execution_count": 43,
   "id": "3edd7674-58b1-4cc9-8099-e9427d00a7d2",
   "metadata": {},
   "outputs": [
    {
     "data": {
      "text/plain": [
       "1444    406\n",
       "Name: product_id, dtype: int64"
      ]
     },
     "execution_count": 43,
     "metadata": {},
     "output_type": "execute_result"
    }
   ],
   "source": [
    "df_productdealerkey[df_productdealerkey.key == df.iloc[503].product_key].product_id"
   ]
  },
  {
   "cell_type": "code",
   "execution_count": 44,
   "id": "2fcf1d14-8c2f-45bc-a681-59deba0e1990",
   "metadata": {},
   "outputs": [
    {
     "data": {
      "text/html": [
       "<div>\n",
       "<style scoped>\n",
       "    .dataframe tbody tr th:only-of-type {\n",
       "        vertical-align: middle;\n",
       "    }\n",
       "\n",
       "    .dataframe tbody tr th {\n",
       "        vertical-align: top;\n",
       "    }\n",
       "\n",
       "    .dataframe thead th {\n",
       "        text-align: right;\n",
       "    }\n",
       "</style>\n",
       "<table border=\"1\" class=\"dataframe\">\n",
       "  <thead>\n",
       "    <tr style=\"text-align: right;\">\n",
       "      <th></th>\n",
       "      <th>id</th>\n",
       "      <th>name</th>\n",
       "    </tr>\n",
       "    <tr>\n",
       "      <th>id_unique</th>\n",
       "      <th></th>\n",
       "      <th></th>\n",
       "    </tr>\n",
       "  </thead>\n",
       "  <tbody>\n",
       "    <tr>\n",
       "      <th>478</th>\n",
       "      <td>406</td>\n",
       "      <td>добавка против появления плесени   0 25 л</td>\n",
       "    </tr>\n",
       "  </tbody>\n",
       "</table>\n",
       "</div>"
      ],
      "text/plain": [
       "            id                                       name\n",
       "id_unique                                                \n",
       "478        406  добавка против появления плесени   0 25 л"
      ]
     },
     "execution_count": 44,
     "metadata": {},
     "output_type": "execute_result"
    }
   ],
   "source": [
    "df_product[df_product.id == 406]"
   ]
  },
  {
   "cell_type": "markdown",
   "id": "6c4c1eb4-d789-43d7-a358-ec677bb144e5",
   "metadata": {},
   "source": [
    "Да, данная позиция от дилеров имеет чёткий мэтч. Внесём рассмотренные в этом разделе случаи в список к решению в дальнейшем."
   ]
  },
  {
   "cell_type": "markdown",
   "id": "4b51f18a-a5d4-4a10-8744-9d69b3fcded3",
   "metadata": {},
   "source": [
    "## Выводы и планы"
   ]
  },
  {
   "cell_type": "markdown",
   "id": "45c9d0bc-1620-44f9-b5f5-41cc72e7dd84",
   "metadata": {},
   "source": [
    "Релизована предобработка данных. Разработан метод сопоставления топ `n` названий заказчиков названиям дилеров. Получена отличная скорость выполнения кода и отличное значение метрики. В будущем необходимо выполнить:\n",
    "\n",
    "1. Проработать вопрос об одинаковых названиях с разными `id`.\n",
    "2. Оптимизировать блок кода с предобработкой текста.\n",
    "3. Ввести метрику `mean_reciprocal_rank`.\n",
    "4. Исследовать случаи, когда сходство = 0.\n",
    "5. Добавить новые слова к функции добавления пробелов.\n",
    "6. Применить `prediction` к эмбедингам от `tiny-BERT`."
   ]
  },
  {
   "cell_type": "code",
   "execution_count": null,
   "id": "3d37edc4-604e-4a37-a782-e335383449d6",
   "metadata": {},
   "outputs": [],
   "source": []
  }
 ],
 "metadata": {
  "kernelspec": {
   "display_name": "Python 3 (ipykernel)",
   "language": "python",
   "name": "python3"
  },
  "language_info": {
   "codemirror_mode": {
    "name": "ipython",
    "version": 3
   },
   "file_extension": ".py",
   "mimetype": "text/x-python",
   "name": "python",
   "nbconvert_exporter": "python",
   "pygments_lexer": "ipython3",
   "version": "3.9.5"
  }
 },
 "nbformat": 4,
 "nbformat_minor": 5
}
